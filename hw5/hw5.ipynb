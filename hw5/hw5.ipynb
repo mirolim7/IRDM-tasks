{
 "cells": [
  {
   "cell_type": "markdown",
   "metadata": {},
   "source": [
    "# Assignment 5\n",
    "\n",
    "# Mirolim Saidakhmatov BDA-1902"
   ]
  },
  {
   "cell_type": "markdown",
   "metadata": {},
   "source": [
    "Importing needed libraries for scraping the data with the use of selenium"
   ]
  },
  {
   "cell_type": "code",
   "execution_count": 48,
   "metadata": {},
   "outputs": [],
   "source": [
    "import pandas\n",
    "from selenium import webdriver\n",
    "from selenium.webdriver.common.keys import Keys\n",
    "from webdriver_manager.chrome import ChromeDriverManager"
   ]
  },
  {
   "cell_type": "markdown",
   "metadata": {},
   "source": [
    "Creating web driver for browser"
   ]
  },
  {
   "cell_type": "code",
   "execution_count": 49,
   "metadata": {},
   "outputs": [
    {
     "name": "stderr",
     "output_type": "stream",
     "text": [
      "[WDM] - Current google-chrome version is 87.0.4280\n",
      "[WDM] - Get LATEST driver version for 87.0.4280\n"
     ]
    },
    {
     "name": "stdout",
     "output_type": "stream",
     "text": [
      " \n"
     ]
    },
    {
     "name": "stderr",
     "output_type": "stream",
     "text": [
      "[WDM] - Driver [C:\\Users\\M\\.wdm\\drivers\\chromedriver\\win32\\87.0.4280.88\\chromedriver.exe] found in cache\n"
     ]
    }
   ],
   "source": [
    "driver = webdriver.Chrome(ChromeDriverManager().install())"
   ]
  },
  {
   "cell_type": "code",
   "execution_count": 50,
   "metadata": {},
   "outputs": [],
   "source": [
    "from selenium.webdriver.chrome.options import Options\n",
    "\n",
    "options = Options()\n",
    "options.headless = True"
   ]
  },
  {
   "cell_type": "code",
   "execution_count": 51,
   "metadata": {},
   "outputs": [],
   "source": [
    "driver.maximize_window()"
   ]
  },
  {
   "cell_type": "markdown",
   "metadata": {},
   "source": [
    "Opening the needed site"
   ]
  },
  {
   "cell_type": "code",
   "execution_count": 52,
   "metadata": {},
   "outputs": [],
   "source": [
    "driver.get('https://krisha.kz/')"
   ]
  },
  {
   "cell_type": "markdown",
   "metadata": {},
   "source": [
    "Finding elements by class or id and etc."
   ]
  },
  {
   "cell_type": "code",
   "execution_count": 53,
   "metadata": {},
   "outputs": [],
   "source": [
    "sv = driver.find_element_by_id('region-selected-value')"
   ]
  },
  {
   "cell_type": "code",
   "execution_count": 54,
   "metadata": {},
   "outputs": [],
   "source": [
    "sv.click()"
   ]
  },
  {
   "cell_type": "code",
   "execution_count": 55,
   "metadata": {},
   "outputs": [],
   "source": [
    "c = driver.find_elements_by_xpath('//*[@data-alias=\"shymkent\"]')"
   ]
  },
  {
   "cell_type": "code",
   "execution_count": 56,
   "metadata": {},
   "outputs": [],
   "source": [
    "c[0].click()"
   ]
  },
  {
   "cell_type": "code",
   "execution_count": 58,
   "metadata": {},
   "outputs": [],
   "source": [
    "d = driver.find_elements_by_xpath('//*[@data-alias=\"shymkent-al-farabijskij\"]')\n",
    "d[0].click()"
   ]
  },
  {
   "cell_type": "code",
   "execution_count": 59,
   "metadata": {},
   "outputs": [],
   "source": [
    "from selenium.webdriver.common.by import By\n",
    "\n",
    "ch = driver.find_elements(By.XPATH, '//a[@class=\"btn btn-primary region-dropdown-action region-dropdown-action-apply\"]')[0].click()\n"
   ]
  },
  {
   "cell_type": "code",
   "execution_count": 60,
   "metadata": {},
   "outputs": [],
   "source": [
    "chs = driver.find_element_by_class_name('search-btn-main').click()\n",
    "\n",
    "pl = driver.find_elements(By.XPATH, '//a[@class=\"a-card__image  \"]')"
   ]
  },
  {
   "cell_type": "markdown",
   "metadata": {},
   "source": [
    "Saving the link of every apartment"
   ]
  },
  {
   "cell_type": "code",
   "execution_count": 62,
   "metadata": {},
   "outputs": [],
   "source": [
    "urls = []\n",
    "\n",
    "for i in driver.find_elements(By.XPATH, '//a[@class=\"a-card__image  \"]'):\n",
    "    urls.append(i.get_attribute('href'))"
   ]
  },
  {
   "cell_type": "code",
   "execution_count": 63,
   "metadata": {},
   "outputs": [],
   "source": [
    "it = 0\n",
    "while it <= 4:\n",
    "    for i in driver.find_elements(By.XPATH, '//a[@class=\"a-card__image  \"]'):\n",
    "        urls.append(i.get_attribute('href'))\n",
    "    \n",
    "    driver.find_elements(By.XPATH, '//a[@class=\"paginator__btn paginator__btn--next\"]')[0].click()\n",
    "    it = it + 1"
   ]
  },
  {
   "cell_type": "code",
   "execution_count": 64,
   "metadata": {},
   "outputs": [
    {
     "data": {
      "text/plain": [
       "117"
      ]
     },
     "execution_count": 64,
     "metadata": {},
     "output_type": "execute_result"
    }
   ],
   "source": [
    "len(urls)"
   ]
  },
  {
   "cell_type": "code",
   "execution_count": 65,
   "metadata": {},
   "outputs": [],
   "source": [
    "s_data = []\n",
    "\n",
    "driver.close()\n",
    "driver.quit()"
   ]
  },
  {
   "cell_type": "code",
   "execution_count": null,
   "metadata": {},
   "outputs": [],
   "source": [
    "Parsing the data from all links"
   ]
  },
  {
   "cell_type": "code",
   "execution_count": 67,
   "metadata": {},
   "outputs": [],
   "source": [
    "for i in urls:\n",
    "    driver = webdriver.Chrome(executable_path = r'C:\\Users\\M\\.wdm\\drivers\\chromedriver\\win32\\87.0.4280.88\\chromedriver.exe')\n",
    "    driver.get(i)\n",
    "    name = driver.find_element_by_class_name('offer__advert-title').text\n",
    "    description = driver.find_element_by_class_name('offer__description').text\n",
    "    author = driver.find_element_by_class_name('owners__name').text\n",
    "\n",
    "    driver.find_element_by_class_name('show-phones').click()\n",
    "    phone = driver.find_element_by_class_name('offer__contacts-phones').text\n",
    "\n",
    "\n",
    "    name = name.replace(\"'\",'')\n",
    "    description = description.replace(\"'\",'')\n",
    "    description = description.replace(\"\\n\",' ')\n",
    "    author = author.replace(\"'\",'')\n",
    "    phone = phone.replace(\"'\",'')\n",
    "\n",
    "    if len(description)<1:\n",
    "        description = \"NaN\"\n",
    "\n",
    "\n",
    "    data = {\n",
    "        'Title' : name,\n",
    "        'Description' : description,\n",
    "        'Author' : author,\n",
    "        'Phone' : phone\n",
    "    }\n",
    "\n",
    "    s_data.append(data)\n",
    "    \n",
    "    driver.close()\n",
    "    driver.quit()"
   ]
  },
  {
   "cell_type": "markdown",
   "metadata": {},
   "source": [
    "Converting the data to pandas Data Frame"
   ]
  },
  {
   "cell_type": "code",
   "execution_count": 70,
   "metadata": {},
   "outputs": [
    {
     "data": {
      "text/html": [
       "<div>\n",
       "<style scoped>\n",
       "    .dataframe tbody tr th:only-of-type {\n",
       "        vertical-align: middle;\n",
       "    }\n",
       "\n",
       "    .dataframe tbody tr th {\n",
       "        vertical-align: top;\n",
       "    }\n",
       "\n",
       "    .dataframe thead th {\n",
       "        text-align: right;\n",
       "    }\n",
       "</style>\n",
       "<table border=\"1\" class=\"dataframe\">\n",
       "  <thead>\n",
       "    <tr style=\"text-align: right;\">\n",
       "      <th></th>\n",
       "      <th>Title</th>\n",
       "      <th>Description</th>\n",
       "      <th>Author</th>\n",
       "      <th>Phone</th>\n",
       "    </tr>\n",
       "  </thead>\n",
       "  <tbody>\n",
       "    <tr>\n",
       "      <th>0</th>\n",
       "      <td>3-комнатная квартира, 70 м², 1/4 этаж, ул. Май...</td>\n",
       "      <td>Дверь металлическая Телефон есть возможность п...</td>\n",
       "      <td>Хозяин недвижимости</td>\n",
       "      <td>+7 707 409 2346\\n+7 707 773 3405</td>\n",
       "    </tr>\n",
       "    <tr>\n",
       "      <th>1</th>\n",
       "      <td>2-комнатная квартира, 45.3 м², 4/5 этаж, Иляев...</td>\n",
       "      <td>Дверь металлическая Пол линолеум В прив. общеж...</td>\n",
       "      <td>Хозяин недвижимости</td>\n",
       "      <td>+7 701 425 9190</td>\n",
       "    </tr>\n",
       "    <tr>\n",
       "      <th>2</th>\n",
       "      <td>2-комнатная квартира, 46 м², 5/5 этаж, Туркест...</td>\n",
       "      <td>Балкон остеклён да Дверь металлическая Телефон...</td>\n",
       "      <td>Хозяин недвижимости</td>\n",
       "      <td>+7 707 700 7173\\n+7 707 956 6234</td>\n",
       "    </tr>\n",
       "    <tr>\n",
       "      <th>3</th>\n",
       "      <td>2-комнатная квартира, 59 м², 2/5 этаж, Есиль(М...</td>\n",
       "      <td>Балкон остеклён да Дверь металлическая Телефон...</td>\n",
       "      <td>Назар Горкаев</td>\n",
       "      <td>+7 702 840 0203\\n+7 776 340 3303</td>\n",
       "    </tr>\n",
       "    <tr>\n",
       "      <th>4</th>\n",
       "      <td>3-комнатная квартира, 62 м², 4/4 этаж, Сапак Д...</td>\n",
       "      <td>Дверь деревянная Телефон есть возможность подк...</td>\n",
       "      <td>Хозяин недвижимости</td>\n",
       "      <td>+7 705 439 5556</td>\n",
       "    </tr>\n",
       "    <tr>\n",
       "      <th>...</th>\n",
       "      <td>...</td>\n",
       "      <td>...</td>\n",
       "      <td>...</td>\n",
       "      <td>...</td>\n",
       "    </tr>\n",
       "    <tr>\n",
       "      <th>112</th>\n",
       "      <td>5-комнатная квартира, 87 м², 1/5 этаж, Мкр. Сп...</td>\n",
       "      <td>Балкон остеклён да Дверь металлическая Телефон...</td>\n",
       "      <td>Хозяин недвижимости</td>\n",
       "      <td>+7 702 479 5252</td>\n",
       "    </tr>\n",
       "    <tr>\n",
       "      <th>113</th>\n",
       "      <td>3-комнатная квартира, 75 м², 2/4 этаж, Гани Ил...</td>\n",
       "      <td>Дверь металлическая Телефон отдельный Мебель п...</td>\n",
       "      <td>Хозяин недвижимости</td>\n",
       "      <td>+7 702 908 0880</td>\n",
       "    </tr>\n",
       "    <tr>\n",
       "      <th>114</th>\n",
       "      <td>3-комнатная квартира, 58 м², 2/5 этаж, улица М...</td>\n",
       "      <td>Продам квартиру по ул. Молдагулова 3-комн 2-эт...</td>\n",
       "      <td>Шынар Нурбекова</td>\n",
       "      <td>+7 702 721 1734</td>\n",
       "    </tr>\n",
       "    <tr>\n",
       "      <th>115</th>\n",
       "      <td>3-комнатная квартира, 70.75 м², 5/5 этаж, Мкр ...</td>\n",
       "      <td>Балкон остеклён да Дверь металлическая Интерне...</td>\n",
       "      <td>Хозяин недвижимости</td>\n",
       "      <td>+7 701 510 6510</td>\n",
       "    </tr>\n",
       "    <tr>\n",
       "      <th>116</th>\n",
       "      <td>3-комнатная квартира, 62 м², 1/4 этаж, Юбилейн...</td>\n",
       "      <td>Балкон остеклён да Дверь металлическая Телефон...</td>\n",
       "      <td>Хозяин недвижимости</td>\n",
       "      <td>+7 705 500 7055\\n+7 702 310 7509</td>\n",
       "    </tr>\n",
       "  </tbody>\n",
       "</table>\n",
       "<p>117 rows × 4 columns</p>\n",
       "</div>"
      ],
      "text/plain": [
       "                                                 Title  \\\n",
       "0    3-комнатная квартира, 70 м², 1/4 этаж, ул. Май...   \n",
       "1    2-комнатная квартира, 45.3 м², 4/5 этаж, Иляев...   \n",
       "2    2-комнатная квартира, 46 м², 5/5 этаж, Туркест...   \n",
       "3    2-комнатная квартира, 59 м², 2/5 этаж, Есиль(М...   \n",
       "4    3-комнатная квартира, 62 м², 4/4 этаж, Сапак Д...   \n",
       "..                                                 ...   \n",
       "112  5-комнатная квартира, 87 м², 1/5 этаж, Мкр. Сп...   \n",
       "113  3-комнатная квартира, 75 м², 2/4 этаж, Гани Ил...   \n",
       "114  3-комнатная квартира, 58 м², 2/5 этаж, улица М...   \n",
       "115  3-комнатная квартира, 70.75 м², 5/5 этаж, Мкр ...   \n",
       "116  3-комнатная квартира, 62 м², 1/4 этаж, Юбилейн...   \n",
       "\n",
       "                                           Description               Author  \\\n",
       "0    Дверь металлическая Телефон есть возможность п...  Хозяин недвижимости   \n",
       "1    Дверь металлическая Пол линолеум В прив. общеж...  Хозяин недвижимости   \n",
       "2    Балкон остеклён да Дверь металлическая Телефон...  Хозяин недвижимости   \n",
       "3    Балкон остеклён да Дверь металлическая Телефон...        Назар Горкаев   \n",
       "4    Дверь деревянная Телефон есть возможность подк...  Хозяин недвижимости   \n",
       "..                                                 ...                  ...   \n",
       "112  Балкон остеклён да Дверь металлическая Телефон...  Хозяин недвижимости   \n",
       "113  Дверь металлическая Телефон отдельный Мебель п...  Хозяин недвижимости   \n",
       "114  Продам квартиру по ул. Молдагулова 3-комн 2-эт...      Шынар Нурбекова   \n",
       "115  Балкон остеклён да Дверь металлическая Интерне...  Хозяин недвижимости   \n",
       "116  Балкон остеклён да Дверь металлическая Телефон...  Хозяин недвижимости   \n",
       "\n",
       "                                Phone  \n",
       "0    +7 707 409 2346\\n+7 707 773 3405  \n",
       "1                     +7 701 425 9190  \n",
       "2    +7 707 700 7173\\n+7 707 956 6234  \n",
       "3    +7 702 840 0203\\n+7 776 340 3303  \n",
       "4                     +7 705 439 5556  \n",
       "..                                ...  \n",
       "112                   +7 702 479 5252  \n",
       "113                   +7 702 908 0880  \n",
       "114                   +7 702 721 1734  \n",
       "115                   +7 701 510 6510  \n",
       "116  +7 705 500 7055\\n+7 702 310 7509  \n",
       "\n",
       "[117 rows x 4 columns]"
      ]
     },
     "execution_count": 70,
     "metadata": {},
     "output_type": "execute_result"
    }
   ],
   "source": [
    "df = pandas.DataFrame(s_data)\n",
    "\n",
    "df"
   ]
  },
  {
   "cell_type": "markdown",
   "metadata": {},
   "source": [
    "Exporting to excel file our data"
   ]
  },
  {
   "cell_type": "code",
   "execution_count": 71,
   "metadata": {},
   "outputs": [],
   "source": [
    "df.to_excel(\"BDA_1902_Mirolim_Saidakhmatov.xlsx\", index = False, header = True)"
   ]
  },
  {
   "cell_type": "code",
   "execution_count": null,
   "metadata": {},
   "outputs": [],
   "source": []
  },
  {
   "cell_type": "markdown",
   "metadata": {},
   "source": [
    "## Conclusion\n",
    "\n",
    "We have completed analysing our website, by using selenium. Additionally, we get that selenium is more used for couple or even less number of pages. If we want to analyse some big amount of web pages, it would be good to use Beautiful Soup or other one."
   ]
  }
 ],
 "metadata": {
  "kernelspec": {
   "display_name": "Python 3",
   "language": "python",
   "name": "python3"
  },
  "language_info": {
   "codemirror_mode": {
    "name": "ipython",
    "version": 3
   },
   "file_extension": ".py",
   "mimetype": "text/x-python",
   "name": "python",
   "nbconvert_exporter": "python",
   "pygments_lexer": "ipython3",
   "version": "3.8.5"
  }
 },
 "nbformat": 4,
 "nbformat_minor": 4
}
